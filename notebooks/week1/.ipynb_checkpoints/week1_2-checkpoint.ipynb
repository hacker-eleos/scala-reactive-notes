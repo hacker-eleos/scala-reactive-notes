{
 "cells": [
  {
   "cell_type": "markdown",
   "metadata": {},
   "source": [
    "# Futures"
   ]
  },
  {
   "cell_type": "markdown",
   "metadata": {},
   "source": [
    "We introduce high level abstraction for asynchronous programming called `Future`.\n",
    "\n",
    "Remember the transformation we applied to a synchronous type signature\n",
    "to make it asynchronous:\n",
    "\n",
    "```scala\n",
    "def program(a: A): B\n",
    "def program(a: A, k: B => Unit): Unit\n",
    "```\n",
    "What if we could model an asynchronous result of type `T` as a return type `Future[T]`?\n",
    "\n",
    "```scala\n",
    "def program(a: A): Future[B]\n",
    "```\n",
    "This has the benifit of explicitly conveying `B` is a result as opposed to parameter.\n",
    "```scala\n",
    "def program(a: A, k: B => Unit): Unit\n",
    "```\n",
    "Let’s massage this type signature…\n",
    "\n",
    "```scala\n",
    "// by currying the continuation parameter\n",
    "def program(a: A): (B => Unit) => Unit\n",
    "```\n",
    "\n",
    "```scala\n",
    "// by introducing a type alias\n",
    "type Future[+T] = (T => Unit) => Unit\n",
    "def program(a: A): Future[B]\n",
    "// bonus: adding failure handling\n",
    "type Future[+T] = (Try[T] => Unit) => Unit\n",
    "```"
   ]
  },
  {
   "cell_type": "markdown",
   "metadata": {},
   "source": [
    "The standard library of scala provides a `Future` type however it's actual definition is slightly more sophisticated.\n",
    "```scala\n",
    "type Future[+T] = (Try[T] => Unit) => Unit\n",
    "// by reifying the alias into a proper trait\n",
    "trait Future[+T] extends ((Try[T] => Unit) => Unit) {\n",
    "def apply(k: Try[T] => Unit): Unit\n",
    "}\n",
    "// by renaming ‘apply‘ to ‘onComplete‘\n",
    "trait Future[+T] {\n",
    "def onComplete(k: Try[T] => Unit): Unit\n",
    "}\n",
    "```\n",
    "Let's revisit `coffeeBreak` with `Future`.\n",
    "\n",
    "```scala\n",
    "def makeCoffee(): Future[Coffee] = ...\n",
    "def coffeeBreak(): Unit = {\n",
    "makeCoffee().onComplete {\n",
    "case Success(coffee) => drink(coffee)\n",
    "case Failure(reason) => ...\n",
    "}\n",
    "chatWithColleagues()\n",
    "}\n",
    "```"
   ]
  },
  {
   "cell_type": "markdown",
   "metadata": {},
   "source": [
    "* `onComplete` suffers from the same composability issues as callbacks\n",
    "* `Future` provides convenient high-level transformation operations\n",
    "(Simplified) API of Future:\n",
    "\n",
    "```scala\n",
    "trait Future[+A] {\n",
    "def onComplete(k: Try[A] => Unit): Unit\n",
    "// transform successful results\n",
    "def map[B](f: A => B): Future[B]\n",
    "def flatMap[B](f: A => Future[B]): Future[B]\n",
    "def zip[B](fb: Future[B]): Future[(A, B)]\n",
    "// transform failures\n",
    "def recover(f: Exception => A): Future[A]\n",
    "def recoverWith(f: Exception => Future[A]): Future[A]\n",
    "}\n",
    "```"
   ]
  },
  {
   "cell_type": "markdown",
   "metadata": {},
   "source": [
    "## map Operation on Future"
   ]
  },
  {
   "cell_type": "markdown",
   "metadata": {},
   "source": [
    "```scala\n",
    "trait Future[+A] {\n",
    "def map[B](f: A => B): Future[B]\n",
    "}\n",
    "```\n",
    "* Transforms a successful `Future[A]` into a `Future[B]` by applying a function `f: A => B` after the `Future[A]` has completed\n",
    "* Automatically propagates the failure of the former `Future[A]` (if any),to the resulting `Future[B]`\n",
    "\n",
    "```scala\n",
    "def grindBeans(): Future[GroundCoffee]\n",
    "def brew(groundCoffee: GroundCoffee): Coffee\n",
    "def makeCoffee(): Future[Coffee] =\n",
    "grindBeans().map(groundCoffee => brew(groundCoffee))\n",
    "\n",
    "```"
   ]
  },
  {
   "cell_type": "code",
   "execution_count": null,
   "metadata": {},
   "outputs": [],
   "source": []
  }
 ],
 "metadata": {
  "kernelspec": {
   "display_name": "Scala",
   "language": "scala",
   "name": "scala"
  },
  "language_info": {
   "codemirror_mode": "text/x-scala",
   "file_extension": ".sc",
   "mimetype": "text/x-scala",
   "name": "scala",
   "nbconvert_exporter": "script",
   "version": "2.13.3"
  }
 },
 "nbformat": 4,
 "nbformat_minor": 4
}
