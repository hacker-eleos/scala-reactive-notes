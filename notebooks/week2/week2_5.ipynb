{
 "cells": [
  {
   "cell_type": "markdown",
   "metadata": {},
   "source": [
    "# Testing Actor Systems\n",
    "\n",
    "Testing actors is integral to development. \n",
    "\n",
    "Test can only verify externally observable effects. Actors only interact through message passing there is no way to reach into them and to check their current behaviour without sending a message."
   ]
  },
  {
   "cell_type": "markdown",
   "metadata": {},
   "source": [
    "See the class \n",
    "```scala\n",
    "class Toggle extends Actor{\n",
    "  def happy: Receive = {\n",
    "    case \"How are you?\" =>\n",
    "      sender ! \"happy\"\n",
    "      context become sad\n",
    "  }\n",
    "  def sad: Receive = {\n",
    "    case \"How are you?\" =>\n",
    "      sender ! \"sad\"\n",
    "      context become happy\n",
    "  }\n",
    "  override def receive = happy\n",
    "}\n",
    "\n",
    "```\n",
    "We must send \"how are you?\" messages. The context changes every time a message recevied. \n",
    "\n",
    "Akka `TestProbe()` is like a remote controlled actor. It's only purpose is to buffer incoming messages in internal queue so they can inspected in test procedure. When we write test, we cannot use `akka.Main` class we need to start the system. \n",
    "\n",
    "```scala\n",
    "implicit val system: ActorSystem = ActorSystem(\"TestSys\")\n",
    "val toggle = system.actorOf(Props[Toggle])\n",
    "val p = TestProbe()\n",
    "p.send(toggle, \"How are you?\")\n",
    "p.expectMsg(\"happy\")\n",
    "p.send(toggle, \"How are you?\")\n",
    "p.expectMsg(\"sad\")\n",
    "p.send(toggle, \"Unkown\")\n",
    "p.expectNoMessage(1.second)\n",
    "system.stop()\n",
    "```"
   ]
  },
  {
   "cell_type": "markdown",
   "metadata": {},
   "source": [
    "\n",
    "The `ActorSystem` comes with so called gaurdian actor. `system.actorOf` create a request to gaurdian actor to create this actor for us. We also need to shut it down. The `TestProbe` is an actor driven from outside.  We can also create `TestProbe` inside. We can run a test in the context of probe. We can do it by using `TesKit` class.\n",
    "\n",
    "\n",
    "```scala\n",
    "\n",
    "new TestKit(ActorSystem(\"TestSys\")) with ImplicitSender {\n",
    "    val toggle = system.actorOf(Props[Toggle])\n",
    "    send(toggle, \"How are you?\")\n",
    "    expectMsg(\"happy\")\n",
    "    send(toggle, \"How are you?\")\n",
    "    expectMsg(\"sad\")\n",
    "    send(toggle, \"Unkown\")\n",
    "    expectNoMessage(1.second)\n",
    "    system.stop()\n",
    "}\n",
    "```\n",
    "\n",
    "Inside the class the `ActorSystem` is available with name `system`. The trait `ImplicitSender` will make internal small actor available implicitly so it will be picked up when you send messages. `toggle !\"how are you?\" testActor`. `expectMsg` is method on `TestKit`, so it is directly available here.\n",
    "\n",
    "## Testing Actors with Dependencies\n",
    "\n",
    "Some Actor might have external dependencies. For example the need to talk to database, or web service. Traditional solution is to use dependecny injection. You can use Akka together with Spring. One simple solution is to add overridable factory methods.\n",
    "\n",
    "Let's look at `Receptionist`. "
   ]
  },
  {
   "cell_type": "code",
   "execution_count": null,
   "metadata": {},
   "outputs": [],
   "source": []
  },
  {
   "cell_type": "markdown",
   "metadata": {},
   "source": []
  },
  {
   "cell_type": "code",
   "execution_count": null,
   "metadata": {},
   "outputs": [],
   "source": []
  },
  {
   "cell_type": "code",
   "execution_count": null,
   "metadata": {},
   "outputs": [],
   "source": []
  }
 ],
 "metadata": {
  "kernelspec": {
   "display_name": "Scala",
   "language": "scala",
   "name": "scala"
  },
  "language_info": {
   "codemirror_mode": "text/x-scala",
   "file_extension": ".sc",
   "mimetype": "text/x-scala",
   "name": "scala",
   "nbconvert_exporter": "script",
   "version": "2.13.3"
  }
 },
 "nbformat": 4,
 "nbformat_minor": 4
}
