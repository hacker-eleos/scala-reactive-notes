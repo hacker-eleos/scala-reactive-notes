{
 "cells": [
  {
   "cell_type": "markdown",
   "metadata": {},
   "source": [
    "# Designing Actor Systems\n",
    "\n",
    "## Starting Out\n",
    "\n",
    "- Imagine giving the task to a group of people, dividing it up.\n",
    "- Consider the group to be of very large size.\n",
    "- Start with how people with different tasks will talk with each other.\n",
    "- Consider these “people” to be easily replaceable.\n",
    "- Draw a diagram with how the task will be split up, including communication lines"
   ]
  },
  {
   "cell_type": "markdown",
   "metadata": {},
   "source": [
    "## Example: the Link Checker\n",
    "\n",
    "Write an actor system which given a URL will recursively download the\n",
    "content, extract links and follow them, bounded by a maximum depth; all links encountered shall be returned\n",
    "\n",
    "### Plan of Action\n",
    "* Write web client which turns a URL into a HTTP body asynchronously. We will be using ”com.ning” % ”async-http-client” % ”1.7.19”\n",
    "* Write a Getter actor for processing the body.\n",
    "* Write a Controller which spawns Getters for all links encountered.\n",
    "* Write a Receptionist managing one Controller per request."
   ]
  }
 ],
 "metadata": {
  "kernelspec": {
   "display_name": "Scala",
   "language": "scala",
   "name": "scala"
  },
  "language_info": {
   "codemirror_mode": "text/x-scala",
   "file_extension": ".sc",
   "mimetype": "text/x-scala",
   "name": "scala",
   "nbconvert_exporter": "script",
   "version": "2.13.3"
  }
 },
 "nbformat": 4,
 "nbformat_minor": 4
}
