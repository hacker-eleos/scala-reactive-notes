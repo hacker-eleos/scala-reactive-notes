{
 "cells": [
  {
   "cell_type": "markdown",
   "metadata": {},
   "source": [
    "# Futures"
   ]
  },
  {
   "cell_type": "markdown",
   "metadata": {},
   "source": [
    "We introduce high level abstraction for asynchronous programming called `Future`.\n",
    "\n",
    "Remember the transformation we applied to a synchronous type signature\n",
    "to make it asynchronous:\n",
    "\n",
    "```scala\n",
    "def program(a: A): B\n",
    "def program(a: A, k: B => Unit): Unit\n",
    "```\n",
    "What if we could model an asynchronous result of type `T` as a return type `Future[T]`?\n",
    "\n",
    "```scala\n",
    "def program(a: A): Future[B]\n",
    "```\n",
    "This has the benifit of explicitly conveying `B` is a result as opposed to parameter.\n",
    "```scala\n",
    "def program(a: A, k: B => Unit): Unit\n",
    "```\n",
    "Let’s massage this type signature…\n",
    "\n",
    "```scala\n",
    "// by currying the continuation parameter\n",
    "def program(a: A): (B => Unit) => Unit\n",
    "```\n",
    "\n",
    "```scala\n",
    "// by introducing a type alias\n",
    "type Future[+T] = (T => Unit) => Unit\n",
    "def program(a: A): Future[B]\n",
    "// bonus: adding failure handling\n",
    "type Future[+T] = (Try[T] => Unit) => Unit\n",
    "```"
   ]
  },
  {
   "cell_type": "markdown",
   "metadata": {},
   "source": [
    "The standard library of scala provides a `Future` type however it's actual definition is slightly more sophisticated.\n",
    "```scala\n",
    "type Future[+T] = (Try[T] => Unit) => Unit\n",
    "// by reifying the alias into a proper trait\n",
    "trait Future[+T] extends ((Try[T] => Unit) => Unit) {\n",
    "def apply(k: Try[T] => Unit): Unit\n",
    "}\n",
    "// by renaming ‘apply‘ to ‘onComplete‘\n",
    "trait Future[+T] {\n",
    "def onComplete(k: Try[T] => Unit): Unit\n",
    "}\n",
    "```\n",
    "Let's revisit `coffeeBreak` with `Future`.\n",
    "\n",
    "```scala\n",
    "def makeCoffee(): Future[Coffee] = ...\n",
    "def coffeeBreak(): Unit = {\n",
    "makeCoffee().onComplete {\n",
    "case Success(coffee) => drink(coffee)\n",
    "case Failure(reason) => ...\n",
    "}\n",
    "chatWithColleagues()\n",
    "}\n",
    "```"
   ]
  },
  {
   "cell_type": "markdown",
   "metadata": {},
   "source": [
    "* `onComplete` suffers from the same composability issues as callbacks\n",
    "* `Future` provides convenient high-level transformation operations\n",
    "(Simplified) API of Future:\n",
    "\n",
    "```scala\n",
    "trait Future[+A] {\n",
    "def onComplete(k: Try[A] => Unit): Unit\n",
    "// transform successful results\n",
    "def map[B](f: A => B): Future[B]\n",
    "def flatMap[B](f: A => Future[B]): Future[B]\n",
    "def zip[B](fb: Future[B]): Future[(A, B)]\n",
    "// transform failures\n",
    "def recover(f: Exception => A): Future[A]\n",
    "def recoverWith(f: Exception => Future[A]): Future[A]\n",
    "}\n",
    "```"
   ]
  },
  {
   "cell_type": "markdown",
   "metadata": {},
   "source": [
    "## map Operation on Future"
   ]
  },
  {
   "cell_type": "markdown",
   "metadata": {},
   "source": [
    "```scala\n",
    "trait Future[+A] {\n",
    "def map[B](f: A => B): Future[B]\n",
    "}\n",
    "```\n",
    "* Transforms a successful `Future[A]` into a `Future[B]` by applying a function `f: A => B` after the `Future[A]` has completed\n",
    "* Automatically propagates the failure of the former `Future[A]` (if any),to the resulting `Future[B]`\n",
    "\n",
    "```scala\n",
    "def grindBeans(): Future[GroundCoffee]\n",
    "def brew(groundCoffee: GroundCoffee): Coffee\n",
    "def makeCoffee(): Future[Coffee] =\n",
    "grindBeans().map(groundCoffee => brew(groundCoffee))\n",
    "\n",
    "```\n",
    "For instance we have `grindBeans` operation returning `Future[GroundCoffee]` and `brew` operation turning `groundCoffee` into `Coffee`. We can make coffee by calling map on `grindBeans` and `brew`on the resulting `groundCoffee`.\n",
    "\n",
    "This example is not realistic because `grindBeans` operation is asynchronous but `brew` operation is not. It instantly turns `groundCoffee` into `Coffee`. To make it realistic we should return `Future[Coffee]`. But if we do that the result type of `makeCoffee` would be `Future[Future[Coffee]]`.\n",
    "\n",
    "This is why there exist `flatMap` operation."
   ]
  },
  {
   "cell_type": "markdown",
   "metadata": {},
   "source": [
    "## flatMap Operation on Future\n",
    "```scala\n",
    "trait Future[+A] {\n",
    "def flatMap[B](f: A => Future[B]): Future[B]\n",
    "}\n",
    "```\n",
    "* Transforms a successful `Future[A]` into a `Future[B]` by applying a function `f: A => Future[B]` after the `Future[A]` has completed\n",
    "* Returns a failed `Future[B]` if the former `Future[A]` failed or if the `Future[B]` resulting from the application of the function `f` failed.\n",
    "\n",
    "```scala\n",
    "def grindBeans(): Future[GroundCoffee]\n",
    "def brew(groundCoffee: GroundCoffee): Future[Coffee]\n",
    "def makeCoffee(): Future[Coffee] =\n",
    "grindBeans().flatMap(groundCoffee => brew(groundCoffee))\n",
    "```"
   ]
  },
  {
   "cell_type": "markdown",
   "metadata": {},
   "source": [
    "## zip Operation on Future\n",
    "```scala\n",
    "trait Future[+A] {\n",
    "def zip[B](other: Future[B]): Future[(A, B)]\n",
    "}\n",
    "```\n",
    "* Joins two successful `Future[A]` and `Future[B]` values into a single successful `Future[(A, B)]` value\n",
    "* Returns a failure if any of the two `Future` values failed\n",
    "* Does not create any dependency between the two Future values!\n",
    "\n",
    "```scala\n",
    "def makeTwoCoffees(): Future[(Coffee, Coffee)] =\n",
    "makeCoffee() zip makeCoffee()\n",
    "```\n",
    "Here program `makeCoffee` evaluated concurrently two times. "
   ]
  },
  {
   "cell_type": "markdown",
   "metadata": {},
   "source": [
    "It is interesting to compare `zip` and `flatMap`. It is possible to asynchronously return pair of `Coffee`. But the key difference is second call to `makeCoffee` in `flatMap` necessarily  evaluated after the first coffee has been produced. In other `flatMap` introduces sequentiality.\n",
    "```scala\n",
    "def makeTwoCoffees(): Future[(Coffee, Coffee)] =\n",
    "makeCoffee() zip makeCoffee()\n",
    "def makeTwoCoffees(): Future[(Coffee, Coffee)] =\n",
    "makeCoffee().flatMap { coffee1 =>\n",
    "makeCoffee().map(coffee2 => (coffee1, coffee2))\n",
    "}\n",
    "```\n",
    "Ofcourse the same behaviour can be implemented by moving the calls to `makeCoffee` to make outside `flatMap`. Here the calls to `makeCoffee` evaluted concurrently. \n",
    "\n",
    "```scala\n",
    "def makeTwoCoffees(): Future[(Coffee, Coffee)] = {\n",
    "val eventuallyCoffee1 = makeCoffee()\n",
    "val eventuallyCoffee2 = makeCoffee()\n",
    "eventuallyCoffee1.flatMap { coffee1 =>\n",
    "eventuallyCoffee2.map(coffee2 => (coffee1, coffee2))\n",
    "}\n",
    "}\n",
    "```\n",
    "Only possible, when `makeCoffee` does not depend on the right hand side of `flatMap`."
   ]
  },
  {
   "cell_type": "markdown",
   "metadata": {},
   "source": [
    "## Sequencing Futures\n",
    "\n",
    "If we chain mutliple `Future` with `flatMap`, we notice that like when we are using callbacks the order of computation follows the level of indentation. \n",
    "\n",
    "```scala\n",
    "def work(): Future[Work] = ...\n",
    "def coffeeBreak(): Future[Unit] = ...\n",
    "def workRoutine(): Future[Work] = {\n",
    "work().flatMap { work1 =>\n",
    "coffeeBreak().flatMap { _ =>\n",
    "work().map { work2 =>\n",
    "work1 + work2\n",
    "}\n",
    "}\n",
    "}\n",
    "}\n",
    "```\n",
    "We can write above program using `for`-expression.\n",
    "```scala\n",
    "def work(): Future[Work] = ...\n",
    "def coffeeBreak(): Future[Unit] = ...\n",
    "def workRoutine(): Future[Work] =\n",
    "for {\n",
    "work1 <- work()\n",
    "_ <- coffeeBreak()\n",
    "work2 <- work()\n",
    "} yield work1 + work2\n",
    "```\n",
    "If we use `for` expression, we get familiar top down order of computation."
   ]
  },
  {
   "cell_type": "markdown",
   "metadata": {},
   "source": [
    "```scala\n",
    "def coffeeBreak(): Future[Unit] = {\n",
    "val eventuallyCoffeeDrunk = makeCoffee().flatMap(drink)\n",
    "val eventuallyChatted = chatWithColleagues()\n",
    "eventuallyCoffeeDrunk.zip(eventuallyChatted)\n",
    ".map(_ => ())\n",
    "}\n",
    "```\n",
    "Instead of returning `Unit` we return `Future[Unit]`"
   ]
  },
  {
   "cell_type": "markdown",
   "metadata": {},
   "source": [
    "## recover and recoverWith Operations on Future\n",
    "\n",
    "Turn a failed Future into a successful one\n",
    "\n",
    "```scala\n",
    "trait Future[+A] {\n",
    "def recover[B >: A](pf: PartialFunction[Throwable, B]): Future[B]\n",
    "def recoverWith[B >: A](pf: PartialFunction[Throwable, Future[B]]): Future[B]\n",
    "}\n",
    "grindBeans()\n",
    ".recoverWith { case BeansBucketEmpty =>\n",
    "refillBeans().flatMap(_ => grindBeans())\n",
    "}\n",
    ".flatMap(coffeePowder => brew(coffeePowder))\n",
    "```"
   ]
  },
  {
   "cell_type": "markdown",
   "metadata": {},
   "source": [
    "## Execution Context\n",
    "\n",
    "Where continuations are executed, physically?\n",
    "When we call `onComplete` on `Future` where this continution is executed generally? It depends on the underlying system. In Scala the API of `Future` allow users to supply context of execution for continuations. \n",
    "\n",
    "User can choose\n",
    "\n",
    "* Single thread (no parallelism)\n",
    "* Thread Pool\n",
    "\n",
    "In practice an execution context is passed via an implicit parameter, \n",
    "\n",
    "```scala\n",
    "trait Future[+A] {\n",
    "def onComplete(k: Try[A] => Unit)(implicit ec: ExecutionContext): Unit\n",
    "}\n",
    "import scala.concurrent.ExecutionContext.Implicits.global\n",
    "```\n",
    "\n",
    "A reasonable choice would be thread pool of size exactly as the underlying physical machine. This is exactly default execution context provided.\n",
    "\n"
   ]
  },
  {
   "cell_type": "markdown",
   "metadata": {},
   "source": [
    "We have seen:\n",
    "* The `Future[T]` type is an equivalent alternative to continuation passing\n",
    "* Offers convenient transformation and failure recovering operations\n",
    "* `map` and `flatMap` operations introduce sequentiality"
   ]
  },
  {
   "cell_type": "code",
   "execution_count": null,
   "metadata": {},
   "outputs": [],
   "source": []
  }
 ],
 "metadata": {
  "kernelspec": {
   "display_name": "Scala",
   "language": "scala",
   "name": "scala"
  },
  "language_info": {
   "codemirror_mode": "text/x-scala",
   "file_extension": ".sc",
   "mimetype": "text/x-scala",
   "name": "scala",
   "nbconvert_exporter": "script",
   "version": "2.13.3"
  }
 },
 "nbformat": 4,
 "nbformat_minor": 4
}