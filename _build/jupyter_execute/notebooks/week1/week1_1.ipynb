{
 "cells": [
  {
   "cell_type": "markdown",
   "metadata": {},
   "source": [
    "# Asynchronous Programming"
   ]
  },
  {
   "cell_type": "markdown",
   "metadata": {},
   "source": [
    "* Execution of a computation on another computing unit, without waiting for its termination ;\n",
    "* Better resource efficiency"
   ]
  },
  {
   "cell_type": "markdown",
   "metadata": {},
   "source": [
    "Since the execution of asynchronous program is concurent, how can we say that some computation must be executed after another computation is finished?\n",
    "\n"
   ]
  },
  {
   "cell_type": "markdown",
   "metadata": {},
   "source": [
    "What if a program A depends on the result of an asynchronously executed program B?\n",
    "```scala\n",
    "def coffeeBreak(): Unit = {\n",
    "val coffee = makeCoffee()\n",
    "drink(coffee)\n",
    "chatWithColleagues()\n",
    "}\n",
    "\n",
    "```"
   ]
  },
  {
   "cell_type": "markdown",
   "metadata": {},
   "source": [
    "Here if the call to `makeCoffee` is asynchronous, the execution of `makeCoffee` would happen concurently with remaining of the execution of the `coffeeBreak`. It means that we might try to `drink` without `makeCoffee` is finished.\n",
    "\n",
    "How can we make this synchronous call into asynchronous but still controlling the order in which the computation executed. \n",
    "\n",
    "Simplest way is to use callbacks. \n",
    "\n",
    "Asynchronous version of `makeCoffee` with following type signature.\n",
    "\n",
    "```scala\n",
    "def makeCoffee(coffeeDone: Coffee => Unit): Unit = {\n",
    "// work hard ...\n",
    "// ... and eventually\n",
    "val coffee = ...\n",
    "coffeeDone(coffee)\n",
    "}\n",
    "def coffeeBreak(): Unit = {\n",
    "makeCoffee { coffee =>\n",
    "drink(coffee)\n",
    "}\n",
    "chatWithColleagues()\n",
    "}\n",
    "```\n",
    "\n",
    "In this version `makeCoffee` takes a function which calls it when coffee is done. In `coffeeBreak` coffee is taken after it's produced."
   ]
  },
  {
   "cell_type": "markdown",
   "metadata": {},
   "source": [
    "A synchronous type signature can be turned into an asynchronous type\n",
    "signature by:\n",
    "* returning `Unit`\n",
    "* and taking as parameter a continuation defining what to do after the return value has been computed"
   ]
  },
  {
   "cell_type": "markdown",
   "metadata": {},
   "source": [
    "## Combining Asynchronous Programs"
   ]
  },
  {
   "cell_type": "markdown",
   "metadata": {},
   "source": [
    "```scala\n",
    "def makeCoffee(coffeeDone: Coffee => Unit): Unit = ...\n",
    "def makeTwoCoffees(coffeesDone: (Coffee, Coffee) => Unit): Unit = {\n",
    "var firstCoffee: Option[Coffee] = None\n",
    "val k = { coffee: Coffee =>\n",
    "firstCoffee match {\n",
    "case None => firstCoffee = Some(coffee)\n",
    "case Some(coffee2) => coffeesDone(coffee, coffee2)\n",
    "}\n",
    "}\n",
    "makeCoffee(k)\n",
    "makeCoffee(k)\n",
    "}\n",
    "```\n",
    "\n",
    "We call `makeCoffee` two times but we don't know which call will be finished first, so which call back will be called first. So, in the continutation we check the coffee that has been produced is the first one the two. If that's the case we can save that coffee, otherwise we call the callback with the two produced coffee.\n",
    "\n",
    "The fact that `makeCoffee` callback returns `unit` forces us to use `var firstCofee` variable.\n",
    "This program style is error prone, because it's mutable.\n",
    "\n",
    "\n",
    "What if another program depends on the coffee break to be done?\n",
    "\n",
    "```scala\n",
    "def coffeeBreak(): Unit = ...\n",
    "```\n",
    "* We need to make coffeeBreak take a callback too!\n",
    "\n",
    "```scala\n",
    "def coffeeBreak(breakDone: Unit => Unit): Unit = ...\n",
    "def workRoutine(workDone: Work => Unit): Unit = {\n",
    "work { work1 =>\n",
    "coffeeBreak { _ =>\n",
    "work { work2 =>\n",
    "workDone(work1 + work2)\n",
    "}\n",
    "}\n",
    "}\n",
    "}\n",
    "```\n",
    "* Order of execution follows the indentation level!"
   ]
  },
  {
   "cell_type": "markdown",
   "metadata": {},
   "source": [
    "Handling Failures\n",
    "\n",
    "* In synchronous programs, failures are handled with exceptions ;\n",
    "* What happens if an asynchronous call fails?\n",
    "    * We need a way to propagate the failure to the call site\n",
    "\n",
    "\n",
    "```scala\n",
    "def makeCoffee(coffeeDone: Try[Coffee] => Unit): Unit = ...\n",
    "```"
   ]
  },
  {
   "cell_type": "markdown",
   "metadata": {},
   "source": [
    "## Summary\n",
    "\n",
    "In this video, we have seen:\n",
    "\n",
    "* How to sequence asynchronous computations using callbacks\n",
    "* Callbacks introduce complex type signatures\n",
    "* The continuation passing style is tedious to use"
   ]
  },
  {
   "cell_type": "code",
   "execution_count": null,
   "metadata": {},
   "outputs": [],
   "source": []
  }
 ],
 "metadata": {
  "kernelspec": {
   "display_name": "Scala",
   "language": "scala",
   "name": "scala"
  },
  "language_info": {
   "codemirror_mode": "text/x-scala",
   "file_extension": ".sc",
   "mimetype": "text/x-scala",
   "name": "scala",
   "nbconvert_exporter": "script",
   "version": "2.13.3"
  }
 },
 "nbformat": 4,
 "nbformat_minor": 4
}